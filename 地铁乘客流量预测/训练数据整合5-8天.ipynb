{
 "cells": [
  {
   "cell_type": "markdown",
   "metadata": {},
   "source": [
    "###  数据整合"
   ]
  },
  {
   "cell_type": "code",
   "execution_count": 1,
   "metadata": {},
   "outputs": [],
   "source": [
    "import pandas as pd\n",
    "import numpy as np\n",
    "five=pd.read_csv(r'D:\\Entertainment\\Prediction of Metro Passenger Flow\\Metro_train\\record_2019-01-05.csv')\n",
    "six=pd.read_csv(r'D:\\Entertainment\\Prediction of Metro Passenger Flow\\Metro_train\\record_2019-01-06.csv')\n",
    "seven=pd.read_csv(r'D:\\Entertainment\\Prediction of Metro Passenger Flow\\Metro_train\\record_2019-01-07.csv')\n",
    "eight=pd.read_csv(r'D:\\Entertainment\\Prediction of Metro Passenger Flow\\Metro_train\\record_2019-01-08.csv')\n",
    "\n",
    "ONE=pd.concat([five,six,seven,eight])\n",
    "#one.columns=['刷卡发生时间','地铁线路id','地铁站id','刷卡设备编号id','进出站状态','用户身份id','用户刷卡类型']\n",
    "#print(one.dtypes)"
   ]
  },
  {
   "cell_type": "code",
   "execution_count": 2,
   "metadata": {},
   "outputs": [],
   "source": [
    "data=ONE.to_csv(r'D:\\Entertainment\\Prediction of Metro Passenger Flow\\Metro_train\\data5_8.csv')"
   ]
  },
  {
   "cell_type": "code",
   "execution_count": null,
   "metadata": {},
   "outputs": [],
   "source": []
  }
 ],
 "metadata": {
  "kernelspec": {
   "display_name": "Python 3",
   "language": "python",
   "name": "python3"
  },
  "language_info": {
   "codemirror_mode": {
    "name": "ipython",
    "version": 3
   },
   "file_extension": ".py",
   "mimetype": "text/x-python",
   "name": "python",
   "nbconvert_exporter": "python",
   "pygments_lexer": "ipython3",
   "version": "3.7.0"
  }
 },
 "nbformat": 4,
 "nbformat_minor": 2
}
