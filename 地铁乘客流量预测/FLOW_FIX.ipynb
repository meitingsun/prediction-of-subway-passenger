{
 "cells": [
  {
   "cell_type": "code",
   "execution_count": 4,
   "metadata": {},
   "outputs": [],
   "source": [
    "import pandas as pd\n",
    "import numpy as np\n",
    "FIRST=pd.read_csv(r'D:\\Entertainment\\Prediction of Metro Passenger Flow\\Metro_train\\data1_4.csv')\n",
    "second=FIRST\n",
    "# 流动人员\n",
    "FLOW=second.loc[second['payType']==3]  \n",
    "FLOW.to_csv(r\"D:\\Entertainment\\Prediction of Metro Passenger Flow\\Metro_train\\FLOW1_4.csv\")\n",
    "\n",
    "# 固定人员\n",
    "FIX=second.loc[second['payType']!=3]  \n",
    "FIX.to_csv(r\"D:\\Entertainment\\Prediction of Metro Passenger Flow\\Metro_train\\FIX1_4.csv\")"
   ]
  },
  {
   "cell_type": "code",
   "execution_count": 5,
   "metadata": {},
   "outputs": [],
   "source": [
    "FIRST=pd.read_csv(r'D:\\Entertainment\\Prediction of Metro Passenger Flow\\Metro_train\\data5_8.csv')\n",
    "second=FIRST\n",
    "# 流动人员\n",
    "FLOW=second.loc[second['payType']==3]  \n",
    "FLOW.to_csv(r\"D:\\Entertainment\\Prediction of Metro Passenger Flow\\Metro_train\\FLOW5_8.csv\")\n",
    "\n",
    "# 固定人员\n",
    "FIX=second.loc[second['payType']!=3]  \n",
    "FIX.to_csv(r\"D:\\Entertainment\\Prediction of Metro Passenger Flow\\Metro_train\\FIX5_8.csv\")"
   ]
  },
  {
   "cell_type": "code",
   "execution_count": 6,
   "metadata": {},
   "outputs": [],
   "source": [
    "FIRST=pd.read_csv(r'D:\\Entertainment\\Prediction of Metro Passenger Flow\\Metro_train\\data9_12.csv')\n",
    "second=FIRST\n",
    "# 流动人员\n",
    "FLOW=second.loc[second['payType']==3]  \n",
    "FLOW.to_csv(r\"D:\\Entertainment\\Prediction of Metro Passenger Flow\\Metro_train\\FLOW9_12.csv\")\n",
    "\n",
    "# 固定人员\n",
    "FIX=second.loc[second['payType']!=3]  \n",
    "FIX.to_csv(r\"D:\\Entertainment\\Prediction of Metro Passenger Flow\\Metro_train\\FIX9_12.csv\")"
   ]
  },
  {
   "cell_type": "code",
   "execution_count": 7,
   "metadata": {},
   "outputs": [],
   "source": [
    "FIRST=pd.read_csv(r'D:\\Entertainment\\Prediction of Metro Passenger Flow\\Metro_train\\data13_16.csv')\n",
    "second=FIRST\n",
    "# 流动人员\n",
    "FLOW=second.loc[second['payType']==3]  \n",
    "FLOW.to_csv(r\"D:\\Entertainment\\Prediction of Metro Passenger Flow\\Metro_train\\FLOW13_16.csv\")\n",
    "\n",
    "# 固定人员\n",
    "FIX=second.loc[second['payType']!=3]  \n",
    "FIX.to_csv(r\"D:\\Entertainment\\Prediction of Metro Passenger Flow\\Metro_train\\FIX13_16.csv\")"
   ]
  },
  {
   "cell_type": "code",
   "execution_count": 8,
   "metadata": {},
   "outputs": [],
   "source": [
    "FIRST=pd.read_csv(r'D:\\Entertainment\\Prediction of Metro Passenger Flow\\Metro_train\\data17_20.csv')\n",
    "second=FIRST\n",
    "# 流动人员\n",
    "FLOW=second.loc[second['payType']==3]  \n",
    "FLOW.to_csv(r\"D:\\Entertainment\\Prediction of Metro Passenger Flow\\Metro_train\\FLOW17_20.csv\")\n",
    "\n",
    "# 固定人员\n",
    "FIX=second.loc[second['payType']!=3]  \n",
    "FIX.to_csv(r\"D:\\Entertainment\\Prediction of Metro Passenger Flow\\Metro_train\\FIX17_20.csv\")"
   ]
  },
  {
   "cell_type": "code",
   "execution_count": 9,
   "metadata": {},
   "outputs": [],
   "source": [
    "FIRST=pd.read_csv(r'D:\\Entertainment\\Prediction of Metro Passenger Flow\\Metro_train\\data21_25.csv')\n",
    "second=FIRST\n",
    "# 流动人员\n",
    "FLOW=second.loc[second['payType']==3]  \n",
    "FLOW.to_csv(r\"D:\\Entertainment\\Prediction of Metro Passenger Flow\\Metro_train\\FLOW21_25.csv\")\n",
    "\n",
    "# 固定人员\n",
    "FIX=second.loc[second['payType']!=3]  \n",
    "FIX.to_csv(r\"D:\\Entertainment\\Prediction of Metro Passenger Flow\\Metro_train\\FIX21_25.csv\")"
   ]
  },
  {
   "cell_type": "code",
   "execution_count": null,
   "metadata": {},
   "outputs": [],
   "source": []
  }
 ],
 "metadata": {
  "kernelspec": {
   "display_name": "Python 3",
   "language": "python",
   "name": "python3"
  },
  "language_info": {
   "codemirror_mode": {
    "name": "ipython",
    "version": 3
   },
   "file_extension": ".py",
   "mimetype": "text/x-python",
   "name": "python",
   "nbconvert_exporter": "python",
   "pygments_lexer": "ipython3",
   "version": "3.7.0"
  }
 },
 "nbformat": 4,
 "nbformat_minor": 2
}
