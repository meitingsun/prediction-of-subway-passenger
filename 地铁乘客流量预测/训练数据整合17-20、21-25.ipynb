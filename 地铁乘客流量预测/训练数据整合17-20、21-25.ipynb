{
 "cells": [
  {
   "cell_type": "markdown",
   "metadata": {},
   "source": [
    "###  数据整合"
   ]
  },
  {
   "cell_type": "code",
   "execution_count": 1,
   "metadata": {},
   "outputs": [],
   "source": [
    "import pandas as pd\n",
    "import numpy as np\n",
    "seventeen=pd.read_csv(r'D:\\Entertainment\\Prediction of Metro Passenger Flow\\Metro_train\\record_2019-01-17.csv')\n",
    "eighteen=pd.read_csv(r'D:\\Entertainment\\Prediction of Metro Passenger Flow\\Metro_train\\record_2019-01-18.csv')\n",
    "nineteen=pd.read_csv(r'D:\\Entertainment\\Prediction of Metro Passenger Flow\\Metro_train\\record_2019-01-19.csv')\n",
    "twenty=pd.read_csv(r'D:\\Entertainment\\Prediction of Metro Passenger Flow\\Metro_train\\record_2019-01-20.csv')\n",
    "\n",
    "\n",
    "ONE=pd.concat([seventeen,eighteen,nineteen,twenty])\n",
    "#one.columns=['刷卡发生时间','地铁线路id','地铁站id','刷卡设备编号id','进出站状态','用户身份id','用户刷卡类型']\n",
    "#print(one.dtypes)\n",
    "data=ONE.to_csv(r'D:\\Entertainment\\Prediction of Metro Passenger Flow\\Metro_train\\data17_20.csv')"
   ]
  },
  {
   "cell_type": "code",
   "execution_count": 2,
   "metadata": {},
   "outputs": [],
   "source": [
    "twenty_one=pd.read_csv(r'D:\\Entertainment\\Prediction of Metro Passenger Flow\\Metro_train\\record_2019-01-21.csv')\n",
    "twenty_two=pd.read_csv(r'D:\\Entertainment\\Prediction of Metro Passenger Flow\\Metro_train\\record_2019-01-22.csv')\n",
    "twenty_three=pd.read_csv(r'D:\\Entertainment\\Prediction of Metro Passenger Flow\\Metro_train\\record_2019-01-23.csv')\n",
    "twenty_four=pd.read_csv(r'D:\\Entertainment\\Prediction of Metro Passenger Flow\\Metro_train\\record_2019-01-24.csv')\n",
    "twenty_five=pd.read_csv(r'D:\\Entertainment\\Prediction of Metro Passenger Flow\\Metro_train\\record_2019-01-25.csv')\n",
    "ONE=pd.concat([twenty_one,twenty_two,twenty_three,twenty_four,twenty_five])\n",
    "data=ONE.to_csv(r'D:\\Entertainment\\Prediction of Metro Passenger Flow\\Metro_train\\data21_25.csv')"
   ]
  },
  {
   "cell_type": "code",
   "execution_count": null,
   "metadata": {},
   "outputs": [],
   "source": []
  }
 ],
 "metadata": {
  "kernelspec": {
   "display_name": "Python 3",
   "language": "python",
   "name": "python3"
  },
  "language_info": {
   "codemirror_mode": {
    "name": "ipython",
    "version": 3
   },
   "file_extension": ".py",
   "mimetype": "text/x-python",
   "name": "python",
   "nbconvert_exporter": "python",
   "pygments_lexer": "ipython3",
   "version": "3.7.0"
  }
 },
 "nbformat": 4,
 "nbformat_minor": 2
}
