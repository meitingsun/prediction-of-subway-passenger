{
 "cells": [
  {
   "cell_type": "code",
   "execution_count": 2,
   "metadata": {},
   "outputs": [],
   "source": [
    "import pandas as pd\n",
    "import numpy as np"
   ]
  },
  {
   "cell_type": "code",
   "execution_count": 3,
   "metadata": {},
   "outputs": [],
   "source": [
    "ONE=pd.read_csv(r'D:\\Entertainment\\Prediction of Metro Passenger Flow\\Metro_testA\\testA_record_2019-01-28.csv')\n",
    "ONE['time']=pd.to_datetime(ONE['time'])\n",
    "ONE['year']=ONE['time'].dt.year\n",
    "ONE['month']=ONE['time'].dt.month\n",
    "ONE['day']=ONE['time'].dt.day\n",
    "ONE['hour']=ONE['time'].dt.hour\n",
    "ONE['minute']=ONE['time'].dt.minute\n",
    "bins=[-1,0,10,20,30,40,50,60]\n",
    "ONE['did']=pd.cut(ONE['minute'].values,bins,right=False)\n",
    "first=ONE\n",
    "first=first.sort_values(by='time')\n",
    "# 进站人数\n",
    "FIRST=first.loc[first['status']==1]\n",
    "IN=FIRST.groupby(['year','month','day','hour','did','stationID'])['userID'].count().reset_index()\n",
    "# 出站人数\n",
    "SECOND=first.loc[first['status']==0]\n",
    "OUT=SECOND.groupby(['year','month','day','hour','did','stationID'])['userID'].count().reset_index()\n",
    "IN_OUT=pd.merge(IN,OUT,on=['year','month','day','hour','did','stationID'])\n",
    "IN_OUT.rename(columns={'userID_x':\"IN\",'userID_y':'OUT'},inplace=True)\n",
    "IN_OUT.to_csv(r\"D:\\Entertainment\\Prediction of Metro Passenger Flow\\Metro_testA\\IN_OUT.csv\")"
   ]
  },
  {
   "cell_type": "code",
   "execution_count": null,
   "metadata": {},
   "outputs": [],
   "source": []
  },
  {
   "cell_type": "code",
   "execution_count": null,
   "metadata": {},
   "outputs": [],
   "source": []
  },
  {
   "cell_type": "code",
   "execution_count": null,
   "metadata": {},
   "outputs": [],
   "source": []
  }
 ],
 "metadata": {
  "kernelspec": {
   "display_name": "Python 3",
   "language": "python",
   "name": "python3"
  },
  "language_info": {
   "codemirror_mode": {
    "name": "ipython",
    "version": 3
   },
   "file_extension": ".py",
   "mimetype": "text/x-python",
   "name": "python",
   "nbconvert_exporter": "python",
   "pygments_lexer": "ipython3",
   "version": "3.7.0"
  }
 },
 "nbformat": 4,
 "nbformat_minor": 2
}
