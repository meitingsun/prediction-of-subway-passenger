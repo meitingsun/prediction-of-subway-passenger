{
 "cells": [
  {
   "cell_type": "markdown",
   "metadata": {},
   "source": [
    "## 2019-01-01"
   ]
  },
  {
   "cell_type": "markdown",
   "metadata": {},
   "source": [
    "### 1.1 数据说明"
   ]
  },
  {
   "cell_type": "code",
   "execution_count": 1,
   "metadata": {},
   "outputs": [
    {
     "name": "stdout",
     "output_type": "stream",
     "text": [
      "time         object\n",
      "lineID       object\n",
      "stationID     int64\n",
      "deviceID      int64\n",
      "status        int64\n",
      "userID       object\n",
      "payType       int64\n",
      "dtype: object\n"
     ]
    },
    {
     "data": {
      "text/html": [
       "<div>\n",
       "<style scoped>\n",
       "    .dataframe tbody tr th:only-of-type {\n",
       "        vertical-align: middle;\n",
       "    }\n",
       "\n",
       "    .dataframe tbody tr th {\n",
       "        vertical-align: top;\n",
       "    }\n",
       "\n",
       "    .dataframe thead th {\n",
       "        text-align: right;\n",
       "    }\n",
       "</style>\n",
       "<table border=\"1\" class=\"dataframe\">\n",
       "  <thead>\n",
       "    <tr style=\"text-align: right;\">\n",
       "      <th></th>\n",
       "      <th>time</th>\n",
       "      <th>lineID</th>\n",
       "      <th>stationID</th>\n",
       "      <th>deviceID</th>\n",
       "      <th>status</th>\n",
       "      <th>userID</th>\n",
       "      <th>payType</th>\n",
       "    </tr>\n",
       "  </thead>\n",
       "  <tbody>\n",
       "    <tr>\n",
       "      <th>0</th>\n",
       "      <td>2019/1/1 2:00</td>\n",
       "      <td>B</td>\n",
       "      <td>27</td>\n",
       "      <td>1354</td>\n",
       "      <td>0</td>\n",
       "      <td>D13f76f42c9a677c4add94d9e480fb5c5</td>\n",
       "      <td>3</td>\n",
       "    </tr>\n",
       "    <tr>\n",
       "      <th>1</th>\n",
       "      <td>2019/1/1 2:01</td>\n",
       "      <td>B</td>\n",
       "      <td>5</td>\n",
       "      <td>200</td>\n",
       "      <td>1</td>\n",
       "      <td>D9a337d37d9512184b8e3fd477934b293</td>\n",
       "      <td>3</td>\n",
       "    </tr>\n",
       "    <tr>\n",
       "      <th>2</th>\n",
       "      <td>2019/1/1 2:01</td>\n",
       "      <td>B</td>\n",
       "      <td>5</td>\n",
       "      <td>247</td>\n",
       "      <td>0</td>\n",
       "      <td>Dc9e179298617f40b782490c1f3e2346c</td>\n",
       "      <td>3</td>\n",
       "    </tr>\n",
       "    <tr>\n",
       "      <th>3</th>\n",
       "      <td>2019/1/1 2:02</td>\n",
       "      <td>B</td>\n",
       "      <td>5</td>\n",
       "      <td>235</td>\n",
       "      <td>0</td>\n",
       "      <td>D9a337d37d9512184b8e3fd477934b293</td>\n",
       "      <td>3</td>\n",
       "    </tr>\n",
       "    <tr>\n",
       "      <th>4</th>\n",
       "      <td>2019/1/1 2:03</td>\n",
       "      <td>B</td>\n",
       "      <td>23</td>\n",
       "      <td>1198</td>\n",
       "      <td>0</td>\n",
       "      <td>Dd1cde61886c23fdb7ef1fdb76c9b1234</td>\n",
       "      <td>3</td>\n",
       "    </tr>\n",
       "  </tbody>\n",
       "</table>\n",
       "</div>"
      ],
      "text/plain": [
       "            time lineID  stationID  deviceID  status  \\\n",
       "0  2019/1/1 2:00      B         27      1354       0   \n",
       "1  2019/1/1 2:01      B          5       200       1   \n",
       "2  2019/1/1 2:01      B          5       247       0   \n",
       "3  2019/1/1 2:02      B          5       235       0   \n",
       "4  2019/1/1 2:03      B         23      1198       0   \n",
       "\n",
       "                              userID  payType  \n",
       "0  D13f76f42c9a677c4add94d9e480fb5c5        3  \n",
       "1  D9a337d37d9512184b8e3fd477934b293        3  \n",
       "2  Dc9e179298617f40b782490c1f3e2346c        3  \n",
       "3  D9a337d37d9512184b8e3fd477934b293        3  \n",
       "4  Dd1cde61886c23fdb7ef1fdb76c9b1234        3  "
      ]
     },
     "execution_count": 1,
     "metadata": {},
     "output_type": "execute_result"
    }
   ],
   "source": [
    "import pandas as pd\n",
    "import numpy as np\n",
    "one=pd.read_csv(r'D:\\Entertainment\\Prediction of Metro Passenger Flow\\Metro_train\\record_2019-01-01.csv')\n",
    "#one.columns=['刷卡发生时间','地铁线路id','地铁站id','刷卡设备编号id','进出站状态','用户身份id','用户刷卡类型']\n",
    "print(one.dtypes)\n",
    "one.head()"
   ]
  },
  {
   "cell_type": "code",
   "execution_count": 2,
   "metadata": {},
   "outputs": [],
   "source": [
    "# 拆分时间\n",
    "ONE=one\n",
    "ONE['time']=pd.to_datetime(ONE['time'])\n",
    "ONE['year']=ONE['time'].dt.year\n",
    "ONE['month']=ONE['time'].dt.month\n",
    "ONE['day']=ONE['time'].dt.day\n",
    "ONE['hour']=ONE['time'].dt.hour\n",
    "ONE['minute']=ONE['time'].dt.minute\n",
    "bins=[-1,0,10,20,30,40,50,60]\n",
    "ONE['did']=pd.cut(ONE['minute'].values,bins,right=False)"
   ]
  },
  {
   "cell_type": "markdown",
   "metadata": {},
   "source": [
    "#### 数据说明：\n",
    "\n",
    "1、除第一行外，每行包含一条用户的刷卡记录\n",
    "\n",
    "2、用户身份id，在用户刷卡类型为3时无法唯一标识用户身份。即此userid可能为多人使用，但在一次进出站期间可以视为同一用户。对于\n",
    "其他取值的用户刷卡类型，对应的用户身份id可以唯一标识一个用户。\n",
    "\n",
    "3、进出站状态：0为出站，1为进站"
   ]
  },
  {
   "cell_type": "markdown",
   "metadata": {},
   "source": [
    "### 1.2 数据预处理"
   ]
  },
  {
   "cell_type": "markdown",
   "metadata": {},
   "source": [
    "#### 1.2.1 以10min时间段统计"
   ]
  },
  {
   "cell_type": "code",
   "execution_count": 3,
   "metadata": {},
   "outputs": [
    {
     "data": {
      "text/html": [
       "<div>\n",
       "<style scoped>\n",
       "    .dataframe tbody tr th:only-of-type {\n",
       "        vertical-align: middle;\n",
       "    }\n",
       "\n",
       "    .dataframe tbody tr th {\n",
       "        vertical-align: top;\n",
       "    }\n",
       "\n",
       "    .dataframe thead th {\n",
       "        text-align: right;\n",
       "    }\n",
       "</style>\n",
       "<table border=\"1\" class=\"dataframe\">\n",
       "  <thead>\n",
       "    <tr style=\"text-align: right;\">\n",
       "      <th></th>\n",
       "      <th>year</th>\n",
       "      <th>month</th>\n",
       "      <th>day</th>\n",
       "      <th>hour</th>\n",
       "      <th>did</th>\n",
       "      <th>stationID</th>\n",
       "      <th>IN</th>\n",
       "      <th>OUT</th>\n",
       "    </tr>\n",
       "  </thead>\n",
       "  <tbody>\n",
       "    <tr>\n",
       "      <th>0</th>\n",
       "      <td>2019</td>\n",
       "      <td>1</td>\n",
       "      <td>1</td>\n",
       "      <td>2</td>\n",
       "      <td>[0, 10)</td>\n",
       "      <td>5</td>\n",
       "      <td>2</td>\n",
       "      <td>3</td>\n",
       "    </tr>\n",
       "    <tr>\n",
       "      <th>1</th>\n",
       "      <td>2019</td>\n",
       "      <td>1</td>\n",
       "      <td>1</td>\n",
       "      <td>2</td>\n",
       "      <td>[0, 10)</td>\n",
       "      <td>27</td>\n",
       "      <td>1</td>\n",
       "      <td>1</td>\n",
       "    </tr>\n",
       "    <tr>\n",
       "      <th>2</th>\n",
       "      <td>2019</td>\n",
       "      <td>1</td>\n",
       "      <td>1</td>\n",
       "      <td>2</td>\n",
       "      <td>[0, 10)</td>\n",
       "      <td>41</td>\n",
       "      <td>1</td>\n",
       "      <td>1</td>\n",
       "    </tr>\n",
       "    <tr>\n",
       "      <th>3</th>\n",
       "      <td>2019</td>\n",
       "      <td>1</td>\n",
       "      <td>1</td>\n",
       "      <td>2</td>\n",
       "      <td>[0, 10)</td>\n",
       "      <td>77</td>\n",
       "      <td>1</td>\n",
       "      <td>1</td>\n",
       "    </tr>\n",
       "    <tr>\n",
       "      <th>4</th>\n",
       "      <td>2019</td>\n",
       "      <td>1</td>\n",
       "      <td>1</td>\n",
       "      <td>2</td>\n",
       "      <td>[10, 20)</td>\n",
       "      <td>31</td>\n",
       "      <td>4</td>\n",
       "      <td>1</td>\n",
       "    </tr>\n",
       "  </tbody>\n",
       "</table>\n",
       "</div>"
      ],
      "text/plain": [
       "   year  month  day  hour       did  stationID  IN  OUT\n",
       "0  2019      1    1     2   [0, 10)          5   2    3\n",
       "1  2019      1    1     2   [0, 10)         27   1    1\n",
       "2  2019      1    1     2   [0, 10)         41   1    1\n",
       "3  2019      1    1     2   [0, 10)         77   1    1\n",
       "4  2019      1    1     2  [10, 20)         31   4    1"
      ]
     },
     "execution_count": 3,
     "metadata": {},
     "output_type": "execute_result"
    }
   ],
   "source": [
    "first=ONE\n",
    "first=first.sort_values(by='time')\n",
    "# 进站人数\n",
    "FIRST=first.loc[first['status']==1]\n",
    "IN=FIRST.groupby(['year','month','day','hour','did','stationID'])['userID'].count().reset_index()\n",
    "# 出站人数\n",
    "SECOND=first.loc[first['status']==0]\n",
    "OUT=SECOND.groupby(['year','month','day','hour','did','stationID'])['userID'].count().reset_index()\n",
    "IN_OUT=pd.merge(IN,OUT,on=['year','month','day','hour','did','stationID'])\n",
    "IN_OUT.rename(columns={'userID_x':\"IN\",'userID_y':'OUT'},inplace=True)\n",
    "IN_OUT.to_csv(r\"D:\\Entertainment\\Prediction of Metro Passenger Flow\\one\\IN_OUT.csv\")\n",
    "IN_OUT.head()"
   ]
  },
  {
   "cell_type": "markdown",
   "metadata": {},
   "source": [
    "#### 1.2.2 移动&固定人员"
   ]
  },
  {
   "cell_type": "code",
   "execution_count": 4,
   "metadata": {},
   "outputs": [],
   "source": [
    "second=ONE\n",
    "# 流动人员\n",
    "FLOW=second.loc[second['payType']==3]  \n",
    "FLOW.to_csv(r\"D:\\Entertainment\\Prediction of Metro Passenger Flow\\one\\FLOW.csv\")\n",
    "FLOW=FLOW.groupby(['year','month','day','hour','did','stationID','status'])['userID'].count().unstack()\n",
    "FLOW_IN_OUT=FLOW.reset_index()\n",
    "FLOW_IN_OUT.to_csv(r\"D:\\Entertainment\\Prediction of Metro Passenger Flow\\one\\FLOW_IN_OUT.csv\")\n",
    "\n",
    "\n",
    "\n",
    "# 固定人员\n",
    "FIX=second.loc[second['payType']!=3]  \n",
    "FIX.to_csv(r\"D:\\Entertainment\\Prediction of Metro Passenger Flow\\one\\FIX.csv\")\n",
    "\n",
    "FIX=FIX.groupby(['year','month','day','hour','did','stationID','status'])['userID'].count().unstack()\n",
    "FIX_IN_OUT=FIX.reset_index()\n",
    "FIX_IN_OUT.to_csv(r\"D:\\Entertainment\\Prediction of Metro Passenger Flow\\one\\FIX_IN_OUT.csv\")"
   ]
  },
  {
   "cell_type": "code",
   "execution_count": null,
   "metadata": {},
   "outputs": [],
   "source": []
  }
 ],
 "metadata": {
  "kernelspec": {
   "display_name": "Python 3",
   "language": "python",
   "name": "python3"
  },
  "language_info": {
   "codemirror_mode": {
    "name": "ipython",
    "version": 3
   },
   "file_extension": ".py",
   "mimetype": "text/x-python",
   "name": "python",
   "nbconvert_exporter": "python",
   "pygments_lexer": "ipython3",
   "version": "3.7.0"
  }
 },
 "nbformat": 4,
 "nbformat_minor": 2
}
