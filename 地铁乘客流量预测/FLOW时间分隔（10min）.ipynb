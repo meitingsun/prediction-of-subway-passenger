{
 "cells": [
  {
   "cell_type": "code",
   "execution_count": 21,
   "metadata": {},
   "outputs": [],
   "source": [
    "import pandas as pd\n",
    "import numpy as np"
   ]
  },
  {
   "cell_type": "code",
   "execution_count": 22,
   "metadata": {},
   "outputs": [],
   "source": [
    "ONE=pd.read_csv(r'D:\\Entertainment\\Prediction of Metro Passenger Flow\\Metro_train\\FLOW1_4.csv')\n",
    "ONE['time']=pd.to_datetime(ONE['time'])\n",
    "ONE['year']=ONE['time'].dt.year\n",
    "ONE['month']=ONE['time'].dt.month\n",
    "ONE['day']=ONE['time'].dt.day\n",
    "ONE['hour']=ONE['time'].dt.hour\n",
    "ONE['minute']=ONE['time'].dt.minute\n",
    "bins=[-1,0,10,20,30,40,50,60]\n",
    "ONE['did']=pd.cut(ONE['minute'].values,bins,right=False)\n",
    "first=ONE\n",
    "first=first.sort_values(by='time')\n",
    "# 进站人数\n",
    "FIRST=first.loc[first['status']==1]\n",
    "IN=FIRST.groupby(['year','month','day','hour','did','stationID'])['userID'].count().reset_index()\n",
    "# 出站人数\n",
    "SECOND=first.loc[first['status']==0]\n",
    "OUT=SECOND.groupby(['year','month','day','hour','did','stationID'])['userID'].count().reset_index()\n",
    "IN_OUT=pd.merge(IN,OUT,on=['year','month','day','hour','did','stationID'])\n",
    "IN_OUT.rename(columns={'userID_x':\"IN\",'userID_y':'OUT'},inplace=True)\n",
    "IN_OUT.to_csv(r\"D:\\Entertainment\\Prediction of Metro Passenger Flow\\Metro_train\\FLOW_IN_OUT1_4.csv\")"
   ]
  },
  {
   "cell_type": "code",
   "execution_count": 16,
   "metadata": {},
   "outputs": [],
   "source": [
    "ONE=pd.read_csv(r'D:\\Entertainment\\Prediction of Metro Passenger Flow\\Metro_train\\FLOW5_8.csv')\n",
    "ONE['time']=pd.to_datetime(ONE['time'])\n",
    "ONE['year']=ONE['time'].dt.year\n",
    "ONE['month']=ONE['time'].dt.month\n",
    "ONE['day']=ONE['time'].dt.day\n",
    "ONE['hour']=ONE['time'].dt.hour\n",
    "ONE['minute']=ONE['time'].dt.minute\n",
    "bins=[-1,0,10,20,30,40,50,60]\n",
    "ONE['did']=pd.cut(ONE['minute'].values,bins,right=False)\n",
    "first=ONE\n",
    "first=first.sort_values(by='time')\n",
    "# 进站人数\n",
    "FIRST=first.loc[first['status']==1]\n",
    "IN=FIRST.groupby(['year','month','day','hour','did','stationID'])['userID'].count().reset_index()\n",
    "# 出站人数\n",
    "SECOND=first.loc[first['status']==0]\n",
    "OUT=SECOND.groupby(['year','month','day','hour','did','stationID'])['userID'].count().reset_index()\n",
    "IN_OUT=pd.merge(IN,OUT,on=['year','month','day','hour','did','stationID'])\n",
    "IN_OUT.rename(columns={'userID_x':\"IN\",'userID_y':'OUT'},inplace=True)\n",
    "IN_OUT.to_csv(r\"D:\\Entertainment\\Prediction of Metro Passenger Flow\\Metro_train\\FLOW_IN_OUT5_8.csv\")"
   ]
  },
  {
   "cell_type": "code",
   "execution_count": 17,
   "metadata": {},
   "outputs": [],
   "source": [
    "ONE=pd.read_csv(r'D:\\Entertainment\\Prediction of Metro Passenger Flow\\Metro_train\\FLOW9_12.csv')\n",
    "ONE['time']=pd.to_datetime(ONE['time'])\n",
    "ONE['year']=ONE['time'].dt.year\n",
    "ONE['month']=ONE['time'].dt.month\n",
    "ONE['day']=ONE['time'].dt.day\n",
    "ONE['hour']=ONE['time'].dt.hour\n",
    "ONE['minute']=ONE['time'].dt.minute\n",
    "bins=[-1,0,10,20,30,40,50,60]\n",
    "ONE['did']=pd.cut(ONE['minute'].values,bins,right=False)\n",
    "first=ONE\n",
    "first=first.sort_values(by='time')\n",
    "# 进站人数\n",
    "FIRST=first.loc[first['status']==1]\n",
    "IN=FIRST.groupby(['year','month','day','hour','did','stationID'])['userID'].count().reset_index()\n",
    "# 出站人数\n",
    "SECOND=first.loc[first['status']==0]\n",
    "OUT=SECOND.groupby(['year','month','day','hour','did','stationID'])['userID'].count().reset_index()\n",
    "IN_OUT=pd.merge(IN,OUT,on=['year','month','day','hour','did','stationID'])\n",
    "IN_OUT.rename(columns={'userID_x':\"IN\",'userID_y':'OUT'},inplace=True)\n",
    "IN_OUT.to_csv(r\"D:\\Entertainment\\Prediction of Metro Passenger Flow\\Metro_train\\FLOW_IN_OUT9_12.csv\")"
   ]
  },
  {
   "cell_type": "code",
   "execution_count": 18,
   "metadata": {},
   "outputs": [],
   "source": [
    "ONE=pd.read_csv(r'D:\\Entertainment\\Prediction of Metro Passenger Flow\\Metro_train\\FLOW13_16.csv')\n",
    "ONE['time']=pd.to_datetime(ONE['time'])\n",
    "ONE['year']=ONE['time'].dt.year\n",
    "ONE['month']=ONE['time'].dt.month\n",
    "ONE['day']=ONE['time'].dt.day\n",
    "ONE['hour']=ONE['time'].dt.hour\n",
    "ONE['minute']=ONE['time'].dt.minute\n",
    "bins=[-1,0,10,20,30,40,50,60]\n",
    "ONE['did']=pd.cut(ONE['minute'].values,bins,right=False)\n",
    "first=ONE\n",
    "first=first.sort_values(by='time')\n",
    "# 进站人数\n",
    "FIRST=first.loc[first['status']==1]\n",
    "IN=FIRST.groupby(['year','month','day','hour','did','stationID'])['userID'].count().reset_index()\n",
    "# 出站人数\n",
    "SECOND=first.loc[first['status']==0]\n",
    "OUT=SECOND.groupby(['year','month','day','hour','did','stationID'])['userID'].count().reset_index()\n",
    "IN_OUT=pd.merge(IN,OUT,on=['year','month','day','hour','did','stationID'])\n",
    "IN_OUT.rename(columns={'userID_x':\"IN\",'userID_y':'OUT'},inplace=True)\n",
    "IN_OUT.to_csv(r\"D:\\Entertainment\\Prediction of Metro Passenger Flow\\Metro_train\\FLOW_IN_OUT13_16.csv\")"
   ]
  },
  {
   "cell_type": "code",
   "execution_count": 19,
   "metadata": {},
   "outputs": [],
   "source": [
    "ONE=pd.read_csv(r'D:\\Entertainment\\Prediction of Metro Passenger Flow\\Metro_train\\FLOW17_20.csv')\n",
    "ONE['time']=pd.to_datetime(ONE['time'])\n",
    "ONE['year']=ONE['time'].dt.year\n",
    "ONE['month']=ONE['time'].dt.month\n",
    "ONE['day']=ONE['time'].dt.day\n",
    "ONE['hour']=ONE['time'].dt.hour\n",
    "ONE['minute']=ONE['time'].dt.minute\n",
    "bins=[-1,0,10,20,30,40,50,60]\n",
    "ONE['did']=pd.cut(ONE['minute'].values,bins,right=False)\n",
    "first=ONE\n",
    "first=first.sort_values(by='time')\n",
    "# 进站人数\n",
    "FIRST=first.loc[first['status']==1]\n",
    "IN=FIRST.groupby(['year','month','day','hour','did','stationID'])['userID'].count().reset_index()\n",
    "# 出站人数\n",
    "SECOND=first.loc[first['status']==0]\n",
    "OUT=SECOND.groupby(['year','month','day','hour','did','stationID'])['userID'].count().reset_index()\n",
    "IN_OUT=pd.merge(IN,OUT,on=['year','month','day','hour','did','stationID'])\n",
    "IN_OUT.rename(columns={'userID_x':\"IN\",'userID_y':'OUT'},inplace=True)\n",
    "IN_OUT.to_csv(r\"D:\\Entertainment\\Prediction of Metro Passenger Flow\\Metro_train\\FLOW_IN_OUT17_20.csv\")"
   ]
  },
  {
   "cell_type": "code",
   "execution_count": 20,
   "metadata": {},
   "outputs": [],
   "source": [
    "ONE=pd.read_csv(r'D:\\Entertainment\\Prediction of Metro Passenger Flow\\Metro_train\\FLOW21_25.csv')\n",
    "ONE['time']=pd.to_datetime(ONE['time'])\n",
    "ONE['year']=ONE['time'].dt.year\n",
    "ONE['month']=ONE['time'].dt.month\n",
    "ONE['day']=ONE['time'].dt.day\n",
    "ONE['hour']=ONE['time'].dt.hour\n",
    "ONE['minute']=ONE['time'].dt.minute\n",
    "bins=[-1,0,10,20,30,40,50,60]\n",
    "ONE['did']=pd.cut(ONE['minute'].values,bins,right=False)\n",
    "first=ONE\n",
    "first=first.sort_values(by='time')\n",
    "# 进站人数\n",
    "FIRST=first.loc[first['status']==1]\n",
    "IN=FIRST.groupby(['year','month','day','hour','did','stationID'])['userID'].count().reset_index()\n",
    "# 出站人数\n",
    "SECOND=first.loc[first['status']==0]\n",
    "OUT=SECOND.groupby(['year','month','day','hour','did','stationID'])['userID'].count().reset_index()\n",
    "IN_OUT=pd.merge(IN,OUT,on=['year','month','day','hour','did','stationID'])\n",
    "IN_OUT.rename(columns={'userID_x':\"IN\",'userID_y':'OUT'},inplace=True)\n",
    "IN_OUT.to_csv(r\"D:\\Entertainment\\Prediction of Metro Passenger Flow\\Metro_train\\FLOW_IN_OUT21_25.csv\")"
   ]
  },
  {
   "cell_type": "code",
   "execution_count": 45,
   "metadata": {},
   "outputs": [
    {
     "data": {
      "text/plain": [
       "DatetimeIndex(['2019-01-29 00:00:00', '2019-01-29 00:10:00',\n",
       "               '2019-01-29 00:20:00', '2019-01-29 00:30:00',\n",
       "               '2019-01-29 00:40:00', '2019-01-29 00:50:00',\n",
       "               '2019-01-29 01:00:00', '2019-01-29 01:10:00',\n",
       "               '2019-01-29 01:20:00', '2019-01-29 01:30:00',\n",
       "               ...\n",
       "               '2019-01-29 22:30:00', '2019-01-29 22:40:00',\n",
       "               '2019-01-29 22:50:00', '2019-01-29 23:00:00',\n",
       "               '2019-01-29 23:10:00', '2019-01-29 23:20:00',\n",
       "               '2019-01-29 23:30:00', '2019-01-29 23:40:00',\n",
       "               '2019-01-29 23:50:00', '2019-01-30 00:00:00'],\n",
       "              dtype='datetime64[ns]', length=145, freq='10T')"
      ]
     },
     "execution_count": 45,
     "metadata": {},
     "output_type": "execute_result"
    }
   ],
   "source": [
    "pd.date_range('20190129', '20190130',freq='10Min') #生成一个时间段"
   ]
  },
  {
   "cell_type": "code",
   "execution_count": 36,
   "metadata": {},
   "outputs": [
    {
     "data": {
      "text/plain": [
       "DatetimeIndex(['2017-10-11', '2017-10-16', '2017-10-21', '2017-10-26'], dtype='datetime64[ns]', freq='5D')"
      ]
     },
     "execution_count": 36,
     "metadata": {},
     "output_type": "execute_result"
    }
   ],
   "source": [
    "pd.date_range('20171011', '20171030',freq='5D') "
   ]
  },
  {
   "cell_type": "code",
   "execution_count": null,
   "metadata": {},
   "outputs": [],
   "source": []
  }
 ],
 "metadata": {
  "kernelspec": {
   "display_name": "Python 3",
   "language": "python",
   "name": "python3"
  },
  "language_info": {
   "codemirror_mode": {
    "name": "ipython",
    "version": 3
   },
   "file_extension": ".py",
   "mimetype": "text/x-python",
   "name": "python",
   "nbconvert_exporter": "python",
   "pygments_lexer": "ipython3",
   "version": "3.7.0"
  }
 },
 "nbformat": 4,
 "nbformat_minor": 2
}
