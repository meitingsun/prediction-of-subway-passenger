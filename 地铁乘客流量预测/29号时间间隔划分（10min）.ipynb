{
 "cells": [
  {
   "cell_type": "markdown",
   "metadata": {},
   "source": [
    "### 1.2 数据预处理"
   ]
  },
  {
   "cell_type": "markdown",
   "metadata": {},
   "source": [
    "#### 1.2.1 以10min时间段统计"
   ]
  },
  {
   "cell_type": "code",
   "execution_count": 50,
   "metadata": {},
   "outputs": [
    {
     "name": "stdout",
     "output_type": "stream",
     "text": [
      "   stationID            startTime              endTime  inNums  outNums\n",
      "0          0  2019-01-29 00:00:00  2019-01-29 00:10:00     NaN      NaN\n",
      "1          0  2019-01-29 00:10:00  2019-01-29 00:20:00     NaN      NaN\n",
      "2          0  2019-01-29 00:20:00  2019-01-29 00:30:00     NaN      NaN\n",
      "3          0  2019-01-29 00:30:00  2019-01-29 00:40:00     NaN      NaN\n",
      "4          0  2019-01-29 00:40:00  2019-01-29 00:50:00     NaN      NaN\n",
      "stationID      int64\n",
      "startTime     object\n",
      "endTime       object\n",
      "inNums       float64\n",
      "outNums      float64\n",
      "dtype: object\n"
     ]
    }
   ],
   "source": [
    "import pandas as pd\n",
    "import numpy as np\n",
    "ONE=pd.read_csv(r'D:\\Entertainment\\Prediction of Metro Passenger Flow\\Metro_testA\\testA_submit_2019-01-29.csv')\n",
    "print(ONE.head())\n",
    "print(ONE.dtypes)"
   ]
  },
  {
   "cell_type": "code",
   "execution_count": 51,
   "metadata": {},
   "outputs": [],
   "source": [
    "# 拆分时间\n",
    "ONE['startTime']=pd.to_datetime(ONE['startTime'])\n",
    "ONE['endTime']=pd.to_datetime(ONE['endTime'])\n",
    "ONE['hour']=ONE['startTime'].dt.hour\n",
    "ONE['startminute']=ONE['startTime'].dt.minute\n",
    "ONE['endminute']=ONE['endTime'].dt.minute\n",
    "for i in range(ONE.shape[0]):\n",
    "    if ONE.loc[i,'endminute']==0:\n",
    "        ONE.loc[i,'endminute']=60\n",
    "ONE['did']='['+ONE['startminute'].astype(str)+', '+ONE['endminute'].astype(str)+')'\n",
    "ONE=ONE.to_csv(r'D:\\Entertainment\\Prediction of Metro Passenger Flow\\Metro_testA\\TEST29.csv')"
   ]
  },
  {
   "cell_type": "code",
   "execution_count": null,
   "metadata": {},
   "outputs": [],
   "source": []
  }
 ],
 "metadata": {
  "kernelspec": {
   "display_name": "Python 3",
   "language": "python",
   "name": "python3"
  },
  "language_info": {
   "codemirror_mode": {
    "name": "ipython",
    "version": 3
   },
   "file_extension": ".py",
   "mimetype": "text/x-python",
   "name": "python",
   "nbconvert_exporter": "python",
   "pygments_lexer": "ipython3",
   "version": "3.7.0"
  }
 },
 "nbformat": 4,
 "nbformat_minor": 2
}
