{
 "cells": [
  {
   "cell_type": "markdown",
   "metadata": {},
   "source": [
    "###  数据整合"
   ]
  },
  {
   "cell_type": "code",
   "execution_count": 2,
   "metadata": {},
   "outputs": [],
   "source": [
    "import pandas as pd\n",
    "import numpy as np\n",
    "nine=pd.read_csv(r'D:\\Entertainment\\Prediction of Metro Passenger Flow\\Metro_train\\record_2019-01-09.csv')\n",
    "ten=pd.read_csv(r'D:\\Entertainment\\Prediction of Metro Passenger Flow\\Metro_train\\record_2019-01-10.csv')\n",
    "eleven=pd.read_csv(r'D:\\Entertainment\\Prediction of Metro Passenger Flow\\Metro_train\\record_2019-01-11.csv')\n",
    "twelve=pd.read_csv(r'D:\\Entertainment\\Prediction of Metro Passenger Flow\\Metro_train\\record_2019-01-12.csv')\n",
    "ONE=pd.concat([nine,ten,eleven,twelve])\n",
    "#one.columns=['刷卡发生时间','地铁线路id','地铁站id','刷卡设备编号id','进出站状态','用户身份id','用户刷卡类型']\n",
    "#print(one.dtypes)\n",
    "data=ONE.to_csv(r'D:\\Entertainment\\Prediction of Metro Passenger Flow\\Metro_train\\data9_12.csv')"
   ]
  },
  {
   "cell_type": "code",
   "execution_count": 3,
   "metadata": {},
   "outputs": [],
   "source": [
    "thirteen=pd.read_csv(r'D:\\Entertainment\\Prediction of Metro Passenger Flow\\Metro_train\\record_2019-01-13.csv')\n",
    "fourteen=pd.read_csv(r'D:\\Entertainment\\Prediction of Metro Passenger Flow\\Metro_train\\record_2019-01-14.csv')\n",
    "fifteen=pd.read_csv(r'D:\\Entertainment\\Prediction of Metro Passenger Flow\\Metro_train\\record_2019-01-15.csv')\n",
    "sixteen=pd.read_csv(r'D:\\Entertainment\\Prediction of Metro Passenger Flow\\Metro_train\\record_2019-01-16.csv')\n",
    "ONE=pd.concat([thirteen,fourteen,fifteen,sixteen])\n",
    "data=ONE.to_csv(r'D:\\Entertainment\\Prediction of Metro Passenger Flow\\Metro_train\\data13_16.csv')"
   ]
  },
  {
   "cell_type": "code",
   "execution_count": null,
   "metadata": {},
   "outputs": [],
   "source": []
  }
 ],
 "metadata": {
  "kernelspec": {
   "display_name": "Python 3",
   "language": "python",
   "name": "python3"
  },
  "language_info": {
   "codemirror_mode": {
    "name": "ipython",
    "version": 3
   },
   "file_extension": ".py",
   "mimetype": "text/x-python",
   "name": "python",
   "nbconvert_exporter": "python",
   "pygments_lexer": "ipython3",
   "version": "3.7.0"
  }
 },
 "nbformat": 4,
 "nbformat_minor": 2
}
